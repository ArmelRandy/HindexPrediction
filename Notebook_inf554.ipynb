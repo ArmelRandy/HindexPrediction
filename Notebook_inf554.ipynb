{
  "cells": [
    {
      "cell_type": "markdown",
      "metadata": {},
      "source": [
        "## **FOR COLAB**"
      ]
    },
    {
      "cell_type": "code",
      "execution_count": 1,
      "metadata": {
        "colab": {
          "base_uri": "https://localhost:8080/"
        },
        "id": "XTiuxQvdPWpv",
        "outputId": "141de426-9f90-4f73-904a-628c5045e56c"
      },
      "outputs": [
        {
          "name": "stdout",
          "output_type": "stream",
          "text": [
            "Drive already mounted at /content/drive/; to attempt to forcibly remount, call drive.mount(\"/content/drive/\", force_remount=True).\n"
          ]
        }
      ],
      "source": [
        "from google.colab import drive\n",
        "drive.mount('/content/drive/')"
      ]
    },
    {
      "cell_type": "markdown",
      "metadata": {
        "id": "HEeXbBJpGm3M"
      },
      "source": [
        "## **General Import**"
      ]
    },
    {
      "cell_type": "code",
      "execution_count": 3,
      "metadata": {
        "colab": {
          "base_uri": "https://localhost:8080/"
        },
        "id": "lMG9y1IbRi3p",
        "outputId": "85fb3c7f-895d-488c-ad30-990193ce0364"
      },
      "outputs": [
        {
          "name": "stdout",
          "output_type": "stream",
          "text": [
            "Wed Dec  8 12:30:37 2021       \n",
            "+-----------------------------------------------------------------------------+\n",
            "| NVIDIA-SMI 495.44       Driver Version: 460.32.03    CUDA Version: 11.2     |\n",
            "|-------------------------------+----------------------+----------------------+\n",
            "| GPU  Name        Persistence-M| Bus-Id        Disp.A | Volatile Uncorr. ECC |\n",
            "| Fan  Temp  Perf  Pwr:Usage/Cap|         Memory-Usage | GPU-Util  Compute M. |\n",
            "|                               |                      |               MIG M. |\n",
            "|===============================+======================+======================|\n",
            "|   0  Tesla P100-PCIE...  Off  | 00000000:00:04.0 Off |                    0 |\n",
            "| N/A   36C    P0    28W / 250W |      0MiB / 16280MiB |      0%      Default |\n",
            "|                               |                      |                  N/A |\n",
            "+-------------------------------+----------------------+----------------------+\n",
            "                                                                               \n",
            "+-----------------------------------------------------------------------------+\n",
            "| Processes:                                                                  |\n",
            "|  GPU   GI   CI        PID   Type   Process name                  GPU Memory |\n",
            "|        ID   ID                                                   Usage      |\n",
            "|=============================================================================|\n",
            "|  No running processes found                                                 |\n",
            "+-----------------------------------------------------------------------------+\n"
          ]
        }
      ],
      "source": [
        "gpu_info = !nvidia-smi\n",
        "gpu_info = '\\n'.join(gpu_info)\n",
        "if gpu_info.find('failed') >= 0:\n",
        "  print('Not connected to a GPU')\n",
        "else :\n",
        "  print(gpu_info)"
      ]
    },
    {
      "cell_type": "code",
      "execution_count": 4,
      "metadata": {
        "colab": {
          "base_uri": "https://localhost:8080/"
        },
        "id": "T_xFeHv5Y327",
        "outputId": "19852df4-f9ac-4b18-9a3d-0bcbe3eb1433"
      },
      "outputs": [
        {
          "name": "stdout",
          "output_type": "stream",
          "text": [
            "Your runtime has 27.3 gigabyte of available RAM\n",
            "\n",
            "You are using a high-RAM runtime !\n"
          ]
        }
      ],
      "source": [
        "from psutil import virtual_memory\n",
        "ram_gb = virtual_memory().total/1e9\n",
        "print('Your runtime has {:.1f} gigabyte of available RAM\\n'.format(ram_gb))\n",
        "\n",
        "if ram_gb < 20 :\n",
        "  print('Not using a high-RAM runtime')\n",
        "else :\n",
        "  print('You are using a high-RAM runtime !')"
      ]
    },
    {
      "cell_type": "code",
      "execution_count": 5,
      "metadata": {
        "colab": {
          "base_uri": "https://localhost:8080/"
        },
        "id": "FDFelD04E787",
        "outputId": "450173d4-62c7-4ae6-ec5d-18b9513ec839"
      },
      "outputs": [
        {
          "name": "stdout",
          "output_type": "stream",
          "text": [
            "Requirement already satisfied: catboost in /usr/local/lib/python3.7/dist-packages (1.0.3)\n",
            "Requirement already satisfied: matplotlib in /usr/local/lib/python3.7/dist-packages (from catboost) (3.2.2)\n",
            "Requirement already satisfied: six in /usr/local/lib/python3.7/dist-packages (from catboost) (1.15.0)\n",
            "Requirement already satisfied: pandas>=0.24.0 in /usr/local/lib/python3.7/dist-packages (from catboost) (1.1.5)\n",
            "Requirement already satisfied: scipy in /usr/local/lib/python3.7/dist-packages (from catboost) (1.4.1)\n",
            "Requirement already satisfied: plotly in /usr/local/lib/python3.7/dist-packages (from catboost) (4.4.1)\n",
            "Requirement already satisfied: numpy>=1.16.0 in /usr/local/lib/python3.7/dist-packages (from catboost) (1.19.5)\n",
            "Requirement already satisfied: graphviz in /usr/local/lib/python3.7/dist-packages (from catboost) (0.10.1)\n",
            "Requirement already satisfied: python-dateutil>=2.7.3 in /usr/local/lib/python3.7/dist-packages (from pandas>=0.24.0->catboost) (2.8.2)\n",
            "Requirement already satisfied: pytz>=2017.2 in /usr/local/lib/python3.7/dist-packages (from pandas>=0.24.0->catboost) (2018.9)\n",
            "Requirement already satisfied: kiwisolver>=1.0.1 in /usr/local/lib/python3.7/dist-packages (from matplotlib->catboost) (1.3.2)\n",
            "Requirement already satisfied: pyparsing!=2.0.4,!=2.1.2,!=2.1.6,>=2.0.1 in /usr/local/lib/python3.7/dist-packages (from matplotlib->catboost) (3.0.6)\n",
            "Requirement already satisfied: cycler>=0.10 in /usr/local/lib/python3.7/dist-packages (from matplotlib->catboost) (0.11.0)\n",
            "Requirement already satisfied: retrying>=1.3.3 in /usr/local/lib/python3.7/dist-packages (from plotly->catboost) (1.3.3)\n"
          ]
        }
      ],
      "source": [
        "!pip install catboost"
      ]
    },
    {
      "cell_type": "code",
      "execution_count": 12,
      "metadata": {
        "id": "zrqr-_nQO7f7"
      },
      "outputs": [],
      "source": [
        "import numpy as np \n",
        "import pandas as pd \n",
        "import networkx as nx\n",
        "from xgboost import XGBRegressor\n",
        "from lightgbm import LGBMRegressor\n",
        "import matplotlib.pyplot as plt\n",
        "import seaborn as sns\n",
        "import ast"
      ]
    },
    {
      "cell_type": "code",
      "execution_count": 13,
      "metadata": {
        "id": "F20Afz-OO7f8"
      },
      "outputs": [],
      "source": [
        "from sklearn.model_selection import train_test_split, GridSearchCV\n",
        "from sklearn.metrics import mean_squared_error\n",
        "from sklearn.preprocessing import StandardScaler\n",
        "from sklearn.feature_extraction.text import CountVectorizer, TfidfVectorizer\n",
        "from sklearn.feature_selection import SelectKBest, chi2, mutual_info_regression\n",
        "from sklearn.linear_model import Ridge, Lasso, ElasticNet\n",
        "from gensim.models import Word2Vec, KeyedVectors\n",
        "from tensorflow import keras"
      ]
    },
    {
      "cell_type": "code",
      "execution_count": 14,
      "metadata": {
        "id": "coBEnubMFii6"
      },
      "outputs": [],
      "source": [
        "from catboost import CatBoostRegressor, Pool\n",
        "from sklearn.linear_model import Ridge, Lasso, ElasticNet, LinearRegression, LassoCV\n",
        "from sklearn.manifold import TSNE"
      ]
    },
    {
      "cell_type": "markdown",
      "metadata": {
        "id": "xjIHmaByUJNX"
      },
      "source": [
        "## **Data Retrieval**"
      ]
    },
    {
      "cell_type": "code",
      "execution_count": 16,
      "metadata": {
        "colab": {
          "base_uri": "https://localhost:8080/"
        },
        "id": "Gc4vUUsbdNW4",
        "outputId": "a377577c-11e6-4265-bbfa-5cdaf79d3720"
      },
      "outputs": [
        {
          "name": "stdout",
          "output_type": "stream",
          "text": [
            "Number of nodes: 217801\n",
            "Number of edges: 1718164\n"
          ]
        }
      ],
      "source": [
        "#/content/drive/MyDrive/Data_Challenge/\n",
        "G = nx.read_edgelist(\"coauthorship.edgelist\", delimiter = ' ', nodetype=int)\n",
        "n_nodes = G.number_of_nodes()\n",
        "n_edges = G.number_of_edges()\n",
        "print('Number of nodes:', n_nodes)\n",
        "print('Number of edges:', n_edges)"
      ]
    },
    {
      "cell_type": "code",
      "execution_count": 17,
      "metadata": {
        "id": "wA215j0QFrON"
      },
      "outputs": [],
      "source": [
        "core_number = nx.core_number(G)"
      ]
    },
    {
      "cell_type": "code",
      "execution_count": 18,
      "metadata": {
        "id": "WyqWM56ySx2Z"
      },
      "outputs": [],
      "source": [
        "page_rank = nx.pagerank(G)"
      ]
    },
    {
      "cell_type": "code",
      "execution_count": 19,
      "metadata": {
        "id": "QKsuxcnvKn75"
      },
      "outputs": [],
      "source": [
        "onion_layers = nx.algorithms.core.onion_layers(G)"
      ]
    },
    {
      "cell_type": "code",
      "execution_count": 22,
      "metadata": {
        "id": "XLLth1Dy5uFv"
      },
      "outputs": [],
      "source": [
        "average_neighbor_degree = nx.average_neighbor_degree(G)\n",
        "triangles = nx.triangles(G)\n",
        "clustering = nx.clustering(G)"
      ]
    },
    {
      "cell_type": "code",
      "execution_count": 23,
      "metadata": {
        "id": "O9k0ZT0ZO7f8"
      },
      "outputs": [],
      "source": [
        "#/content/drive/MyDrive/Data_Challenge/\n",
        "author_papers = pd.read_csv(\"author_papers.txt\", delimiter = \":\", header = None)\n",
        "author_papers[1] = author_papers[1].apply(lambda x : x.split(\"-\"))\n",
        "author_papers = author_papers.rename(columns = {0:'author_ID', 1 : 'paper_IDs'})\n"
      ]
    },
    {
      "cell_type": "code",
      "execution_count": 24,
      "metadata": {
        "colab": {
          "base_uri": "https://localhost:8080/",
          "height": 459
        },
        "id": "J9jYcB0nO7f9",
        "outputId": "5f0f4cfb-9dc7-42bb-e33b-c13d2cfe2593"
      },
      "outputs": [
        {
          "data": {
            "text/html": [
              "<div>\n",
              "<style scoped>\n",
              "    .dataframe tbody tr th:only-of-type {\n",
              "        vertical-align: middle;\n",
              "    }\n",
              "\n",
              "    .dataframe tbody tr th {\n",
              "        vertical-align: top;\n",
              "    }\n",
              "\n",
              "    .dataframe thead th {\n",
              "        text-align: right;\n",
              "    }\n",
              "</style>\n",
              "<table border=\"1\" class=\"dataframe\">\n",
              "  <thead>\n",
              "    <tr style=\"text-align: right;\">\n",
              "      <th></th>\n",
              "      <th>paper_IDs</th>\n",
              "    </tr>\n",
              "    <tr>\n",
              "      <th>author_ID</th>\n",
              "      <th></th>\n",
              "    </tr>\n",
              "  </thead>\n",
              "  <tbody>\n",
              "    <tr>\n",
              "      <th>1036332</th>\n",
              "      <td>[1510273386, 1827736641, 1588673897, 225271132...</td>\n",
              "    </tr>\n",
              "    <tr>\n",
              "      <th>1101850</th>\n",
              "      <td>[133459021, 179719743, 2111787673, 2126488676,...</td>\n",
              "    </tr>\n",
              "    <tr>\n",
              "      <th>1336878</th>\n",
              "      <td>[2122092249, 2132109814, 2100271871, 206567253...</td>\n",
              "    </tr>\n",
              "    <tr>\n",
              "      <th>1515524</th>\n",
              "      <td>[2141827797, 2127085795, 2013547785, 213852978...</td>\n",
              "    </tr>\n",
              "    <tr>\n",
              "      <th>1606427</th>\n",
              "      <td>[1907724546]</td>\n",
              "    </tr>\n",
              "  </tbody>\n",
              "</table>\n",
              "</div>"
            ],
            "text/plain": [
              "                                                   paper_IDs\n",
              "author_ID                                                   \n",
              "1036332    [1510273386, 1827736641, 1588673897, 225271132...\n",
              "1101850    [133459021, 179719743, 2111787673, 2126488676,...\n",
              "1336878    [2122092249, 2132109814, 2100271871, 206567253...\n",
              "1515524    [2141827797, 2127085795, 2013547785, 213852978...\n",
              "1606427                                         [1907724546]"
            ]
          },
          "execution_count": 24,
          "metadata": {},
          "output_type": "execute_result"
        }
      ],
      "source": [
        "author_papers.set_index(\"author_ID\", inplace = True)\n",
        "author_papers.head()"
      ]
    },
    {
      "cell_type": "code",
      "execution_count": 25,
      "metadata": {
        "id": "FHD_xEi7O7f-"
      },
      "outputs": [],
      "source": [
        "#/content/drive/MyDrive/Data_Challenge/\n",
        "train = pd.read_csv(\"train.csv\")\n",
        "test = pd.read_csv(\"test.csv\")\n",
        "y = train[\"hindex\"]\n",
        "test.drop(columns = [\"Unnamed: 0\"], inplace = True)"
      ]
    },
    {
      "cell_type": "code",
      "execution_count": 26,
      "metadata": {
        "colab": {
          "base_uri": "https://localhost:8080/"
        },
        "id": "3n6dSpPAs0Ur",
        "outputId": "4fb1958c-db4e-43d0-fce0-69b2dbfff28c"
      },
      "outputs": [
        {
          "data": {
            "text/plain": [
              "2.0      22230\n",
              "1.0      20884\n",
              "3.0      17271\n",
              "4.0      14247\n",
              "5.0      11621\n",
              "         ...  \n",
              "154.0        1\n",
              "186.0        1\n",
              "163.0        1\n",
              "187.0        1\n",
              "137.0        1\n",
              "Name: hindex, Length: 148, dtype: int64"
            ]
          },
          "execution_count": 26,
          "metadata": {},
          "output_type": "execute_result"
        }
      ],
      "source": [
        "train[\"hindex\"].value_counts()"
      ]
    },
    {
      "cell_type": "code",
      "execution_count": 27,
      "metadata": {
        "colab": {
          "base_uri": "https://localhost:8080/",
          "height": 71
        },
        "id": "5h_AbAxhu14p",
        "outputId": "95389d5c-c31b-4e42-f148-99521cd39296"
      },
      "outputs": [
        {
          "data": {
            "text/plain": [
              "<matplotlib.axes._subplots.AxesSubplot at 0x7f31ddfa3c10>"
            ]
          },
          "execution_count": 27,
          "metadata": {},
          "output_type": "execute_result"
        },
        {
          "data": {
            "image/png": "[encoded data removed]",
            "text/plain": [
              "<Figure size 432x288 with 1 Axes>"
            ]
          },
          "metadata": {
            "needs_background": "light"
          },
          "output_type": "display_data"
        }
      ],
      "source": [
        "sns.boxplot(x = train[\"hindex\"])"
      ]
    },
    {
      "cell_type": "code",
      "execution_count": 28,
      "metadata": {
        "id": "1gyCbDMcb1y9"
      },
      "outputs": [],
      "source": [
        "whole = pd.concat([train, test], axis = 0)\n",
        "whole.reset_index(inplace=True)\n",
        "whole_ = whole.copy()\n",
        "whole_.set_index(\"author\", inplace = True)"
      ]
    },
    {
      "cell_type": "code",
      "execution_count": 29,
      "metadata": {
        "id": "rkX24b4J8ATs"
      },
      "outputs": [],
      "source": [
        "wholey = pd.concat([train[\"hindex\"], test[\"hindex\"]])\n",
        "dico = {e : i for (i, e) in enumerate(wholey.index)}"
      ]
    },
    {
      "cell_type": "code",
      "execution_count": 30,
      "metadata": {
        "colab": {
          "base_uri": "https://localhost:8080/"
        },
        "id": "47tg9b0BhCN3",
        "outputId": "b555b1c8-56dd-4d70-e4ac-4700719ff6f4"
      },
      "outputs": [
        {
          "name": "stdout",
          "output_type": "stream",
          "text": [
            "   index      author  hindex\n",
            "0      0  1964267543     4.0\n",
            "1      1  2153592714    13.0\n",
            "2      2   217158525     8.0\n",
            "            index  hindex\n",
            "author                   \n",
            "1964267543      0     4.0\n",
            "2153592714      1    13.0\n",
            "217158525       2     8.0\n"
          ]
        }
      ],
      "source": [
        "print(whole.head(3))\n",
        "print(whole_.head(3))"
      ]
    },
    {
      "cell_type": "code",
      "execution_count": 31,
      "metadata": {
        "id": "TNKov9TkdBzy"
      },
      "outputs": [],
      "source": [
        "import math\n",
        "def process_avg(x):\n",
        "    liste = [e for e in G.neighbors(x)]\n",
        "    liste = [whole_[\"hindex\"][e] for e in liste if math.isnan(whole_[\"hindex\"][e]) == False]\n",
        "    if len(liste) != 0 :\n",
        "        return sum(liste)/len(liste)\n",
        "    else :\n",
        "        return 1.0\n",
        "def process_min(x):\n",
        "    liste = [e for e in G.neighbors(x)]\n",
        "    liste = [whole_[\"hindex\"][e] for e in liste if math.isnan(whole_[\"hindex\"][e]) == False]\n",
        "    if len(liste) != 0 :\n",
        "        return min(liste)\n",
        "    else :\n",
        "        return 0.0\n",
        "def process_max(x):\n",
        "    liste = [e for e in G.neighbors(x)]\n",
        "    liste = [whole_[\"hindex\"][e] for e in liste if math.isnan(whole_[\"hindex\"][e]) == False]\n",
        "    if len(liste) != 0 :\n",
        "        return max(liste)\n",
        "    else :\n",
        "        return 1.0"
      ]
    },
    {
      "cell_type": "code",
      "execution_count": 32,
      "metadata": {
        "id": "f5154t62dWDd"
      },
      "outputs": [],
      "source": [
        "whole[\"average\"] = whole[\"author\"].apply(lambda x : process_avg(x))"
      ]
    },
    {
      "cell_type": "code",
      "execution_count": 33,
      "metadata": {
        "id": "BZMJAzwShcPl"
      },
      "outputs": [],
      "source": [
        "whole[\"core_number\"] = whole[\"author\"].apply(lambda x : core_number[x])"
      ]
    },
    {
      "cell_type": "code",
      "execution_count": 34,
      "metadata": {
        "id": "jkWTzz0qTBFR"
      },
      "outputs": [],
      "source": [
        "whole[\"page_rank\"] = whole[\"author\"].apply(lambda x : page_rank[x])"
      ]
    },
    {
      "cell_type": "code",
      "execution_count": 35,
      "metadata": {
        "id": "HNgHxE7Sdq-O"
      },
      "outputs": [],
      "source": [
        "whole[\"degree\"] = whole[\"author\"].apply(lambda x : G.degree(x))"
      ]
    },
    {
      "cell_type": "code",
      "execution_count": 36,
      "metadata": {
        "id": "X2VkySw3K6Pk"
      },
      "outputs": [],
      "source": [
        "whole[\"onion\"] = whole[\"author\"].apply(lambda x : onion_layers[x])"
      ]
    },
    {
      "cell_type": "code",
      "execution_count": 39,
      "metadata": {
        "id": "Qyj3BI9FKg28"
      },
      "outputs": [],
      "source": [
        "whole[\"avg_degree\"] = whole[\"author\"].apply(lambda x : average_neighbor_degree[x])\n",
        "whole[\"triangles\"] = whole[\"author\"].apply(lambda x : triangles[x])\n",
        "whole[\"clustering\"] = whole[\"author\"].apply(lambda x : -clustering[x])"
      ]
    },
    {
      "cell_type": "code",
      "execution_count": 41,
      "metadata": {
        "id": "xAYfaif8z3Zz"
      },
      "outputs": [],
      "source": [
        "train.set_index(\"author\", inplace = True)\n",
        "test.set_index(\"author\", inplace = True)"
      ]
    },
    {
      "cell_type": "code",
      "execution_count": 42,
      "metadata": {
        "id": "lKJQE-RlJmRu"
      },
      "outputs": [],
      "source": [
        "train[\"degree\"] = [G.degree[e] for e in train.index]\n",
        "test[\"degree\"] = [G.degree[e] for e in test.index]"
      ]
    },
    {
      "cell_type": "code",
      "execution_count": 44,
      "metadata": {
        "id": "7JfP0jY9XBVi"
      },
      "outputs": [],
      "source": [
        "#/content/drive/MyDrive/Data_Challenge/\n",
        "abstracts = pd.read_csv(\"abstracts_bar.csv\", sep = \"|\", engine = \"python\")"
      ]
    },
    {
      "cell_type": "code",
      "execution_count": 45,
      "metadata": {
        "colab": {
          "base_uri": "https://localhost:8080/",
          "height": 394
        },
        "id": "DiZSNHtudf_V",
        "outputId": "fe16cb2c-fd1b-491b-9684-2b59ceebdb8a"
      },
      "outputs": [
        {
          "data": {
            "text/html": [
              "<div>\n",
              "<style scoped>\n",
              "    .dataframe tbody tr th:only-of-type {\n",
              "        vertical-align: middle;\n",
              "    }\n",
              "\n",
              "    .dataframe tbody tr th {\n",
              "        vertical-align: top;\n",
              "    }\n",
              "\n",
              "    .dataframe thead th {\n",
              "        text-align: right;\n",
              "    }\n",
              "</style>\n",
              "<table border=\"1\" class=\"dataframe\">\n",
              "  <thead>\n",
              "    <tr style=\"text-align: right;\">\n",
              "      <th></th>\n",
              "      <th>paper_ID</th>\n",
              "      <th>IndexLength</th>\n",
              "      <th>InvertedIndex</th>\n",
              "    </tr>\n",
              "  </thead>\n",
              "  <tbody>\n",
              "    <tr>\n",
              "      <th>0</th>\n",
              "      <td>3603</td>\n",
              "      <td>122</td>\n",
              "      <td>{'In': [0], 'this': [1], 'paper,': [2], 'we': ...</td>\n",
              "    </tr>\n",
              "    <tr>\n",
              "      <th>1</th>\n",
              "      <td>7383</td>\n",
              "      <td>192</td>\n",
              "      <td>{'The': [0], 'paper': [1], 'starts': [2], 'fro...</td>\n",
              "    </tr>\n",
              "    <tr>\n",
              "      <th>2</th>\n",
              "      <td>14309</td>\n",
              "      <td>102</td>\n",
              "      <td>{'This': [0], 'contribution': [1], 'describes'...</td>\n",
              "    </tr>\n",
              "    <tr>\n",
              "      <th>3</th>\n",
              "      <td>15548</td>\n",
              "      <td>54</td>\n",
              "      <td>{'Cleaneval': [0], 'is': [1], 'a': [2, 26], 's...</td>\n",
              "    </tr>\n",
              "    <tr>\n",
              "      <th>4</th>\n",
              "      <td>15883</td>\n",
              "      <td>141</td>\n",
              "      <td>{'Xax': [0, 24], 'is': [1], 'a': [2, 26, 50, 5...</td>\n",
              "    </tr>\n",
              "  </tbody>\n",
              "</table>\n",
              "</div>"
            ],
            "text/plain": [
              "   paper_ID  IndexLength                                      InvertedIndex\n",
              "0      3603          122  {'In': [0], 'this': [1], 'paper,': [2], 'we': ...\n",
              "1      7383          192  {'The': [0], 'paper': [1], 'starts': [2], 'fro...\n",
              "2     14309          102  {'This': [0], 'contribution': [1], 'describes'...\n",
              "3     15548           54  {'Cleaneval': [0], 'is': [1], 'a': [2, 26], 's...\n",
              "4     15883          141  {'Xax': [0, 24], 'is': [1], 'a': [2, 26, 50, 5..."
            ]
          },
          "execution_count": 45,
          "metadata": {},
          "output_type": "execute_result"
        }
      ],
      "source": [
        "abstracts.head()"
      ]
    },
    {
      "cell_type": "code",
      "execution_count": 46,
      "metadata": {
        "id": "djKti8kwMVWk"
      },
      "outputs": [],
      "source": [
        "import functools\n",
        "def compare(a, b):\n",
        "    return a[1]-b[1] \n",
        "def processing(x):\n",
        "    liste = []\n",
        "    x = ast.literal_eval(x)\n",
        "    for e in x.keys():\n",
        "        for b in x[e]:\n",
        "            liste.append((e, b))\n",
        "    liste = sorted(liste, key = functools.cmp_to_key(compare))\n",
        "    result = ' '.join([u for (u, v) in liste])\n",
        "    return result.strip()"
      ]
    },
    {
      "cell_type": "code",
      "execution_count": 47,
      "metadata": {
        "colab": {
          "base_uri": "https://localhost:8080/",
          "height": 394
        },
        "id": "fAMT2sjhIIv7",
        "outputId": "d2b0b8b2-2e81-4879-aa93-355acb37414e"
      },
      "outputs": [
        {
          "data": {
            "text/html": [
              "<div>\n",
              "<style scoped>\n",
              "    .dataframe tbody tr th:only-of-type {\n",
              "        vertical-align: middle;\n",
              "    }\n",
              "\n",
              "    .dataframe tbody tr th {\n",
              "        vertical-align: top;\n",
              "    }\n",
              "\n",
              "    .dataframe thead th {\n",
              "        text-align: right;\n",
              "    }\n",
              "</style>\n",
              "<table border=\"1\" class=\"dataframe\">\n",
              "  <thead>\n",
              "    <tr style=\"text-align: right;\">\n",
              "      <th></th>\n",
              "      <th>paper_ID</th>\n",
              "      <th>IndexLength</th>\n",
              "      <th>InvertedIndex</th>\n",
              "    </tr>\n",
              "  </thead>\n",
              "  <tbody>\n",
              "    <tr>\n",
              "      <th>0</th>\n",
              "      <td>3603</td>\n",
              "      <td>122</td>\n",
              "      <td>{'In': [0], 'this': [1], 'paper,': [2], 'we': ...</td>\n",
              "    </tr>\n",
              "    <tr>\n",
              "      <th>1</th>\n",
              "      <td>7383</td>\n",
              "      <td>192</td>\n",
              "      <td>{'The': [0], 'paper': [1], 'starts': [2], 'fro...</td>\n",
              "    </tr>\n",
              "    <tr>\n",
              "      <th>2</th>\n",
              "      <td>14309</td>\n",
              "      <td>102</td>\n",
              "      <td>{'This': [0], 'contribution': [1], 'describes'...</td>\n",
              "    </tr>\n",
              "    <tr>\n",
              "      <th>3</th>\n",
              "      <td>15548</td>\n",
              "      <td>54</td>\n",
              "      <td>{'Cleaneval': [0], 'is': [1], 'a': [2, 26], 's...</td>\n",
              "    </tr>\n",
              "    <tr>\n",
              "      <th>4</th>\n",
              "      <td>15883</td>\n",
              "      <td>141</td>\n",
              "      <td>{'Xax': [0, 24], 'is': [1], 'a': [2, 26, 50, 5...</td>\n",
              "    </tr>\n",
              "  </tbody>\n",
              "</table>\n",
              "</div>"
            ],
            "text/plain": [
              "   paper_ID  IndexLength                                      InvertedIndex\n",
              "0      3603          122  {'In': [0], 'this': [1], 'paper,': [2], 'we': ...\n",
              "1      7383          192  {'The': [0], 'paper': [1], 'starts': [2], 'fro...\n",
              "2     14309          102  {'This': [0], 'contribution': [1], 'describes'...\n",
              "3     15548           54  {'Cleaneval': [0], 'is': [1], 'a': [2, 26], 's...\n",
              "4     15883          141  {'Xax': [0, 24], 'is': [1], 'a': [2, 26, 50, 5..."
            ]
          },
          "execution_count": 47,
          "metadata": {},
          "output_type": "execute_result"
        }
      ],
      "source": [
        "abstracts.head()"
      ]
    },
    {
      "cell_type": "code",
      "execution_count": 48,
      "metadata": {
        "id": "p9Ee4nOAeMNY"
      },
      "outputs": [],
      "source": [
        "abstracts.set_index(\"paper_ID\", inplace = True)"
      ]
    },
    {
      "cell_type": "code",
      "execution_count": 49,
      "metadata": {
        "id": "Iaqg32tydsD3"
      },
      "outputs": [],
      "source": [
        "def process_avg_2(x):\n",
        "  x = [int(e) for e in x]\n",
        "  liste = [abstracts[\"IndexLength\"][e] for e in x if e in abstracts.index]\n",
        "  if len(liste) != 0 :\n",
        "    return sum(liste)/len(liste)\n",
        "  else :\n",
        "    return 0\n",
        "\n",
        "author_papers[\"length\"] = author_papers[\"paper_IDs\"].apply(lambda x : process_avg_2(x))"
      ]
    },
    {
      "cell_type": "code",
      "execution_count": 50,
      "metadata": {
        "id": "bkBBxMi1e3OS"
      },
      "outputs": [],
      "source": [
        "whole[\"length\"] = whole[\"author\"].apply(lambda x : author_papers[\"length\"][x])"
      ]
    },
    {
      "cell_type": "code",
      "execution_count": 51,
      "metadata": {
        "id": "TqDhCz6Wh4bI"
      },
      "outputs": [],
      "source": [
        "whole[\"n_articles\"] = whole[\"author\"].apply(lambda x : len(author_papers[\"paper_IDs\"][x]))"
      ]
    },
    {
      "cell_type": "code",
      "execution_count": 52,
      "metadata": {
        "colab": {
          "base_uri": "https://localhost:8080/"
        },
        "id": "XxlXtXB1fQo7",
        "outputId": "5c008572-4dcb-4b1c-b494-e99efc3e7953"
      },
      "outputs": [
        {
          "data": {
            "text/plain": [
              "hindex         1.000000\n",
              "onion          0.459289\n",
              "degree         0.406326\n",
              "page_rank      0.402164\n",
              "average        0.363316\n",
              "core_number    0.359067\n",
              "avg_degree     0.358154\n",
              "n_articles     0.323564\n",
              "triangles      0.306164\n",
              "length         0.161609\n",
              "clustering     0.125795\n",
              "author        -0.078556\n",
              "index         -0.193269\n",
              "Name: hindex, dtype: float64"
            ]
          },
          "execution_count": 52,
          "metadata": {},
          "output_type": "execute_result"
        }
      ],
      "source": [
        "whole.corr()[\"hindex\"].sort_values(ascending = False)"
      ]
    },
    {
      "cell_type": "code",
      "execution_count": 53,
      "metadata": {
        "colab": {
          "base_uri": "https://localhost:8080/",
          "height": 472
        },
        "id": "opx2llcpLRdM",
        "outputId": "a943087d-dc42-4e82-bfb1-5210f50d826e"
      },
      "outputs": [
        {
          "data": {
            "text/html": [
              "<div>\n",
              "<style scoped>\n",
              "    .dataframe tbody tr th:only-of-type {\n",
              "        vertical-align: middle;\n",
              "    }\n",
              "\n",
              "    .dataframe tbody tr th {\n",
              "        vertical-align: top;\n",
              "    }\n",
              "\n",
              "    .dataframe thead th {\n",
              "        text-align: right;\n",
              "    }\n",
              "</style>\n",
              "<table border=\"1\" class=\"dataframe\">\n",
              "  <thead>\n",
              "    <tr style=\"text-align: right;\">\n",
              "      <th></th>\n",
              "      <th>index</th>\n",
              "      <th>author</th>\n",
              "      <th>hindex</th>\n",
              "      <th>average</th>\n",
              "      <th>core_number</th>\n",
              "      <th>page_rank</th>\n",
              "      <th>degree</th>\n",
              "      <th>onion</th>\n",
              "      <th>avg_degree</th>\n",
              "      <th>triangles</th>\n",
              "      <th>clustering</th>\n",
              "      <th>length</th>\n",
              "      <th>n_articles</th>\n",
              "    </tr>\n",
              "  </thead>\n",
              "  <tbody>\n",
              "    <tr>\n",
              "      <th>index</th>\n",
              "      <td>1.000000</td>\n",
              "      <td>0.540115</td>\n",
              "      <td>-0.193269</td>\n",
              "      <td>-0.031153</td>\n",
              "      <td>0.011987</td>\n",
              "      <td>-0.123409</td>\n",
              "      <td>0.001317</td>\n",
              "      <td>-0.018180</td>\n",
              "      <td>0.020384</td>\n",
              "      <td>0.014964</td>\n",
              "      <td>-0.069108</td>\n",
              "      <td>-0.034582</td>\n",
              "      <td>-0.361759</td>\n",
              "    </tr>\n",
              "    <tr>\n",
              "      <th>author</th>\n",
              "      <td>0.540115</td>\n",
              "      <td>1.000000</td>\n",
              "      <td>-0.078556</td>\n",
              "      <td>0.014798</td>\n",
              "      <td>0.038076</td>\n",
              "      <td>-0.095820</td>\n",
              "      <td>0.029945</td>\n",
              "      <td>0.028352</td>\n",
              "      <td>0.048229</td>\n",
              "      <td>0.033530</td>\n",
              "      <td>-0.071389</td>\n",
              "      <td>0.006970</td>\n",
              "      <td>-0.191425</td>\n",
              "    </tr>\n",
              "    <tr>\n",
              "      <th>hindex</th>\n",
              "      <td>-0.193269</td>\n",
              "      <td>-0.078556</td>\n",
              "      <td>1.000000</td>\n",
              "      <td>0.363316</td>\n",
              "      <td>0.359067</td>\n",
              "      <td>0.402164</td>\n",
              "      <td>0.406326</td>\n",
              "      <td>0.459289</td>\n",
              "      <td>0.358154</td>\n",
              "      <td>0.306164</td>\n",
              "      <td>0.125795</td>\n",
              "      <td>0.161609</td>\n",
              "      <td>0.323564</td>\n",
              "    </tr>\n",
              "    <tr>\n",
              "      <th>average</th>\n",
              "      <td>-0.031153</td>\n",
              "      <td>0.014798</td>\n",
              "      <td>0.363316</td>\n",
              "      <td>1.000000</td>\n",
              "      <td>0.317096</td>\n",
              "      <td>-0.059472</td>\n",
              "      <td>0.318220</td>\n",
              "      <td>0.364180</td>\n",
              "      <td>0.419679</td>\n",
              "      <td>0.264027</td>\n",
              "      <td>-0.055210</td>\n",
              "      <td>0.150230</td>\n",
              "      <td>0.097017</td>\n",
              "    </tr>\n",
              "    <tr>\n",
              "      <th>core_number</th>\n",
              "      <td>0.011987</td>\n",
              "      <td>0.038076</td>\n",
              "      <td>0.359067</td>\n",
              "      <td>0.317096</td>\n",
              "      <td>1.000000</td>\n",
              "      <td>0.065822</td>\n",
              "      <td>0.969187</td>\n",
              "      <td>0.803496</td>\n",
              "      <td>0.928288</td>\n",
              "      <td>0.957866</td>\n",
              "      <td>-0.094301</td>\n",
              "      <td>0.002121</td>\n",
              "      <td>0.069620</td>\n",
              "    </tr>\n",
              "    <tr>\n",
              "      <th>page_rank</th>\n",
              "      <td>-0.123409</td>\n",
              "      <td>-0.095820</td>\n",
              "      <td>0.402164</td>\n",
              "      <td>-0.059472</td>\n",
              "      <td>0.065822</td>\n",
              "      <td>1.000000</td>\n",
              "      <td>0.159423</td>\n",
              "      <td>0.241557</td>\n",
              "      <td>0.018178</td>\n",
              "      <td>0.037816</td>\n",
              "      <td>0.297751</td>\n",
              "      <td>0.032373</td>\n",
              "      <td>0.221629</td>\n",
              "    </tr>\n",
              "    <tr>\n",
              "      <th>degree</th>\n",
              "      <td>0.001317</td>\n",
              "      <td>0.029945</td>\n",
              "      <td>0.406326</td>\n",
              "      <td>0.318220</td>\n",
              "      <td>0.969187</td>\n",
              "      <td>0.159423</td>\n",
              "      <td>1.000000</td>\n",
              "      <td>0.825227</td>\n",
              "      <td>0.911682</td>\n",
              "      <td>0.934035</td>\n",
              "      <td>-0.050273</td>\n",
              "      <td>0.025439</td>\n",
              "      <td>0.084680</td>\n",
              "    </tr>\n",
              "    <tr>\n",
              "      <th>onion</th>\n",
              "      <td>-0.018180</td>\n",
              "      <td>0.028352</td>\n",
              "      <td>0.459289</td>\n",
              "      <td>0.364180</td>\n",
              "      <td>0.803496</td>\n",
              "      <td>0.241557</td>\n",
              "      <td>0.825227</td>\n",
              "      <td>1.000000</td>\n",
              "      <td>0.827736</td>\n",
              "      <td>0.645918</td>\n",
              "      <td>-0.117017</td>\n",
              "      <td>0.124567</td>\n",
              "      <td>0.131439</td>\n",
              "    </tr>\n",
              "    <tr>\n",
              "      <th>avg_degree</th>\n",
              "      <td>0.020384</td>\n",
              "      <td>0.048229</td>\n",
              "      <td>0.358154</td>\n",
              "      <td>0.419679</td>\n",
              "      <td>0.928288</td>\n",
              "      <td>0.018178</td>\n",
              "      <td>0.911682</td>\n",
              "      <td>0.827736</td>\n",
              "      <td>1.000000</td>\n",
              "      <td>0.849862</td>\n",
              "      <td>-0.098950</td>\n",
              "      <td>0.050676</td>\n",
              "      <td>0.060592</td>\n",
              "    </tr>\n",
              "    <tr>\n",
              "      <th>triangles</th>\n",
              "      <td>0.014964</td>\n",
              "      <td>0.033530</td>\n",
              "      <td>0.306164</td>\n",
              "      <td>0.264027</td>\n",
              "      <td>0.957866</td>\n",
              "      <td>0.037816</td>\n",
              "      <td>0.934035</td>\n",
              "      <td>0.645918</td>\n",
              "      <td>0.849862</td>\n",
              "      <td>1.000000</td>\n",
              "      <td>-0.067860</td>\n",
              "      <td>-0.031800</td>\n",
              "      <td>0.049074</td>\n",
              "    </tr>\n",
              "    <tr>\n",
              "      <th>clustering</th>\n",
              "      <td>-0.069108</td>\n",
              "      <td>-0.071389</td>\n",
              "      <td>0.125795</td>\n",
              "      <td>-0.055210</td>\n",
              "      <td>-0.094301</td>\n",
              "      <td>0.297751</td>\n",
              "      <td>-0.050273</td>\n",
              "      <td>-0.117017</td>\n",
              "      <td>-0.098950</td>\n",
              "      <td>-0.067860</td>\n",
              "      <td>1.000000</td>\n",
              "      <td>-0.036192</td>\n",
              "      <td>0.127504</td>\n",
              "    </tr>\n",
              "    <tr>\n",
              "      <th>length</th>\n",
              "      <td>-0.034582</td>\n",
              "      <td>0.006970</td>\n",
              "      <td>0.161609</td>\n",
              "      <td>0.150230</td>\n",
              "      <td>0.002121</td>\n",
              "      <td>0.032373</td>\n",
              "      <td>0.025439</td>\n",
              "      <td>0.124567</td>\n",
              "      <td>0.050676</td>\n",
              "      <td>-0.031800</td>\n",
              "      <td>-0.036192</td>\n",
              "      <td>1.000000</td>\n",
              "      <td>0.113901</td>\n",
              "    </tr>\n",
              "    <tr>\n",
              "      <th>n_articles</th>\n",
              "      <td>-0.361759</td>\n",
              "      <td>-0.191425</td>\n",
              "      <td>0.323564</td>\n",
              "      <td>0.097017</td>\n",
              "      <td>0.069620</td>\n",
              "      <td>0.221629</td>\n",
              "      <td>0.084680</td>\n",
              "      <td>0.131439</td>\n",
              "      <td>0.060592</td>\n",
              "      <td>0.049074</td>\n",
              "      <td>0.127504</td>\n",
              "      <td>0.113901</td>\n",
              "      <td>1.000000</td>\n",
              "    </tr>\n",
              "  </tbody>\n",
              "</table>\n",
              "</div>"
            ],
            "text/plain": [
              "                index    author    hindex  ...  clustering    length  n_articles\n",
              "index        1.000000  0.540115 -0.193269  ...   -0.069108 -0.034582   -0.361759\n",
              "author       0.540115  1.000000 -0.078556  ...   -0.071389  0.006970   -0.191425\n",
              "hindex      -0.193269 -0.078556  1.000000  ...    0.125795  0.161609    0.323564\n",
              "average     -0.031153  0.014798  0.363316  ...   -0.055210  0.150230    0.097017\n",
              "core_number  0.011987  0.038076  0.359067  ...   -0.094301  0.002121    0.069620\n",
              "page_rank   -0.123409 -0.095820  0.402164  ...    0.297751  0.032373    0.221629\n",
              "degree       0.001317  0.029945  0.406326  ...   -0.050273  0.025439    0.084680\n",
              "onion       -0.018180  0.028352  0.459289  ...   -0.117017  0.124567    0.131439\n",
              "avg_degree   0.020384  0.048229  0.358154  ...   -0.098950  0.050676    0.060592\n",
              "triangles    0.014964  0.033530  0.306164  ...   -0.067860 -0.031800    0.049074\n",
              "clustering  -0.069108 -0.071389  0.125795  ...    1.000000 -0.036192    0.127504\n",
              "length      -0.034582  0.006970  0.161609  ...   -0.036192  1.000000    0.113901\n",
              "n_articles  -0.361759 -0.191425  0.323564  ...    0.127504  0.113901    1.000000\n",
              "\n",
              "[13 rows x 13 columns]"
            ]
          },
          "execution_count": 53,
          "metadata": {},
          "output_type": "execute_result"
        }
      ],
      "source": [
        "whole.corr()"
      ]
    },
    {
      "cell_type": "code",
      "execution_count": null,
      "metadata": {
        "id": "pUqdB0FlLKor"
      },
      "outputs": [],
      "source": [
        "abstracts[\"sentences\"] = abstracts[\"InvertedIndex\"].apply(lambda x : processing(x))"
      ]
    },
    {
      "cell_type": "code",
      "execution_count": null,
      "metadata": {
        "id": "t4EKzkt4KxP6"
      },
      "outputs": [],
      "source": [
        "from sklearn.impute import SimpleImputer\n",
        "impute = SimpleImputer(missing_values = np.nan, strategy = 'mean')\n",
        "scaler = StandardScaler()"
      ]
    },
    {
      "cell_type": "markdown",
      "metadata": {
        "id": "rLu-Vzz4HAdN"
      },
      "source": [
        "## **Word Embeddings**"
      ]
    },
    {
      "cell_type": "code",
      "execution_count": null,
      "metadata": {
        "id": "Djcg1zfHLQjq"
      },
      "outputs": [],
      "source": [
        "import gensim\n",
        "from gensim.models import Word2Vec, KeyedVectors, TfidfModel\n",
        "from gensim.parsing.preprocessing import STOPWORDS\n",
        "from gensim.models.doc2vec import Doc2Vec, TaggedDocument\n",
        "assert gensim.models.doc2vec.FAST_VERSION > -1, \"This will be painfully slow otherwise\""
      ]
    },
    {
      "cell_type": "code",
      "execution_count": null,
      "metadata": {
        "id": "McCV93mRHOqN"
      },
      "outputs": [],
      "source": [
        "DIM_EMBEDDING = 300"
      ]
    },
    {
      "cell_type": "code",
      "execution_count": null,
      "metadata": {
        "id": "WLfEOrUSO7gE"
      },
      "outputs": [],
      "source": [
        "card_docs = [TaggedDocument(doc.split(' '), [i]) for i, doc in enumerate(abstracts[\"sentences\"])]"
      ]
    },
    {
      "cell_type": "code",
      "execution_count": null,
      "metadata": {
        "id": "-LJBexCrVrVG"
      },
      "outputs": [],
      "source": [
        "word2vec_model = Doc2Vec(vector_size = DIM_EMBEDDING, window = 2, min_count=1, workers = -1, epochs = 20)\n",
        "word2vec_model.build_vocab(card_docs)\n",
        "word2vec_model.train(card_docs, total_examples = model.corpus_count, epochs=model.epochs)"
      ]
    },
    {
      "cell_type": "code",
      "execution_count": null,
      "metadata": {
        "id": "FKZg2ZvyO7gE"
      },
      "outputs": [],
      "source": [
        "P = abstracts[\"sentences\"].apply(lambda x : word2vec_model.infer_vector(x.split(' ')))"
      ]
    },
    {
      "cell_type": "code",
      "execution_count": null,
      "metadata": {
        "id": "4DcfWk3eHohY"
      },
      "outputs": [],
      "source": [
        "P = np.stack(P.values, axis = 0)"
      ]
    },
    {
      "cell_type": "code",
      "execution_count": null,
      "metadata": {
        "id": "Otcj2FvRNzWN"
      },
      "outputs": [],
      "source": [
        "P = pd.DataFrame(data = P, index = abstracts[\"paper_ID\"], columns = np.arange(DIM_EMBEDDING))"
      ]
    },
    {
      "cell_type": "code",
      "execution_count": null,
      "metadata": {
        "id": "hVnpbF1ZeYE_"
      },
      "outputs": [],
      "source": [
        "P.head(5)"
      ]
    },
    {
      "cell_type": "code",
      "execution_count": null,
      "metadata": {
        "id": "OGdMJO_2JC0c"
      },
      "outputs": [],
      "source": [
        "def process_embed(x):\n",
        "    v = [int(e) for e in x if int(e) in P.index]\n",
        "    if len(v) != 0 :\n",
        "        return sum([P.loc[e, :].values for e in v])/len(v)\n",
        "    else :\n",
        "        k = np.zeros((DIM_EMBEDDING,))\n",
        "        k[:] = np.NaN\n",
        "        return k"
      ]
    },
    {
      "cell_type": "code",
      "execution_count": null,
      "metadata": {
        "id": "BBDMkHs0JLj2"
      },
      "outputs": [],
      "source": [
        "X_total = author_papers[\"paper_IDs\"].apply(lambda x : process_embed(x))"
      ]
    },
    {
      "cell_type": "code",
      "execution_count": null,
      "metadata": {
        "id": "t20ZBawaJS2e"
      },
      "outputs": [],
      "source": [
        "X_total = np.stack(X_total.to_numpy(), axis = 0)"
      ]
    },
    {
      "cell_type": "code",
      "execution_count": null,
      "metadata": {
        "id": "QGNKCwwnJaK-"
      },
      "outputs": [],
      "source": [
        "X_total = pd.DataFrame(data = X_total, index = author_papers.index, columns = np.arange(DIM_EMBEDDING))"
      ]
    },
    {
      "cell_type": "code",
      "execution_count": null,
      "metadata": {
        "id": "L-KgWaRzcRXJ"
      },
      "outputs": [],
      "source": [
        "X_total.isna().sum()"
      ]
    },
    {
      "cell_type": "code",
      "execution_count": null,
      "metadata": {
        "id": "obsP9SHrJm-w"
      },
      "outputs": [],
      "source": [
        "X_total = impute.fit_transform(X_total)\n",
        "X_total = pd.DataFrame(data = X_total, index = author_papers.index,columns = np.arange(DIM_EMBEDDING))"
      ]
    },
    {
      "cell_type": "code",
      "execution_count": null,
      "metadata": {
        "id": "uPjNj1GT4ymY"
      },
      "outputs": [],
      "source": [
        "X_total.head()"
      ]
    },
    {
      "cell_type": "code",
      "execution_count": null,
      "metadata": {
        "id": "SVDoN_o_Jn5r"
      },
      "outputs": [],
      "source": [
        "X = X_total.loc[train.index,:]\n",
        "y = train[\"hindex\"]\n",
        "X_test = X_total.loc[test.index,:]"
      ]
    },
    {
      "cell_type": "markdown",
      "metadata": {
        "id": "OQpfXm1oM5wz"
      },
      "source": [
        "## **TF-IDF**"
      ]
    },
    {
      "cell_type": "code",
      "execution_count": 55,
      "metadata": {
        "id": "zbrRi4B1lypt"
      },
      "outputs": [],
      "source": [
        "from sklearn.decomposition import TruncatedSVD, PCA, SparsePCA"
      ]
    },
    {
      "cell_type": "code",
      "execution_count": 56,
      "metadata": {
        "id": "yHrGheD4I9za"
      },
      "outputs": [],
      "source": [
        "DIMENSION = 500"
      ]
    },
    {
      "cell_type": "code",
      "execution_count": 57,
      "metadata": {
        "id": "S77Lk5mmO7gE"
      },
      "outputs": [],
      "source": [
        "def clean(x):\n",
        "    return x.lower().replace(\"\\n\", \" \")\n",
        "#vect = TfidfVectorizer(preprocessor = clean, max_features = 5000)\n",
        "vect = TfidfVectorizer(preprocessor = clean, max_features = DIMENSION)"
      ]
    },
    {
      "cell_type": "code",
      "execution_count": null,
      "metadata": {
        "id": "My4iL1f2NJfz"
      },
      "outputs": [],
      "source": [
        "Q = vect.fit_transform(abstracts[\"sentences\"]).todense()"
      ]
    },
    {
      "cell_type": "code",
      "execution_count": null,
      "metadata": {
        "id": "PZK93kn11O6a"
      },
      "outputs": [],
      "source": [
        "#Q = vect.fit_transform(abstracts[\"sentences\"])\n",
        "#Q = PCA(n_components = DIMENSION).fit_transform(Q)\n",
        "#Q = TruncatedSVD(n_components = DIMENSION, random_state = 42).fit_transform(Q)"
      ]
    },
    {
      "cell_type": "code",
      "execution_count": null,
      "metadata": {
        "id": "o-H3hqY5NfTZ"
      },
      "outputs": [],
      "source": [
        "Q = pd.DataFrame(data = Q, index = abstracts.index, columns = np.arange(DIMENSION))"
      ]
    },
    {
      "cell_type": "code",
      "execution_count": null,
      "metadata": {
        "id": "vCBgewJCdsyJ"
      },
      "outputs": [],
      "source": [
        "Q.head(3)"
      ]
    },
    {
      "cell_type": "code",
      "execution_count": null,
      "metadata": {
        "id": "ruROJcuUO7gE"
      },
      "outputs": [],
      "source": [
        "def process_tfidf(x):\n",
        "    v = [int(e) for e in x if int(e) in Q.index]\n",
        "    if len(v) != 0 :\n",
        "        return sum([Q.loc[e, :].values for e in v])/len(v)\n",
        "    else :\n",
        "        k = np.zeros((DIMENSION,))\n",
        "        k[:] = np.NaN\n",
        "        return k"
      ]
    },
    {
      "cell_type": "code",
      "execution_count": null,
      "metadata": {
        "id": "9aUkolbsO7gF"
      },
      "outputs": [],
      "source": [
        "X_total_ = author_papers[\"paper_IDs\"].apply(lambda x : process_tfidf(x))"
      ]
    },
    {
      "cell_type": "code",
      "execution_count": null,
      "metadata": {
        "id": "gggWW_g2QdkM"
      },
      "outputs": [],
      "source": [
        "X_total_ = np.stack(X_total_.to_numpy(), axis = 0)"
      ]
    },
    {
      "cell_type": "code",
      "execution_count": null,
      "metadata": {
        "id": "RhsroEelQdgY"
      },
      "outputs": [],
      "source": [
        "X_total_ = pd.DataFrame(data = X_total_, index = author_papers.index, columns = np.arange(DIMENSION))"
      ]
    },
    {
      "cell_type": "code",
      "execution_count": null,
      "metadata": {
        "id": "7uIcJRnmeLNV"
      },
      "outputs": [],
      "source": [
        "X_total_.head(3)"
      ]
    },
    {
      "cell_type": "code",
      "execution_count": null,
      "metadata": {
        "id": "KT8p7NhB3YfD"
      },
      "outputs": [],
      "source": [
        "X_total_.isna().sum()"
      ]
    },
    {
      "cell_type": "code",
      "execution_count": null,
      "metadata": {
        "id": "m5j72ze9O7gF"
      },
      "outputs": [],
      "source": [
        "X_total_ = impute.fit_transform(X_total_)\n",
        "X_total_ = pd.DataFrame(data = X_total_, index = author_papers.index,columns = np.arange(DIMENSION))"
      ]
    },
    {
      "cell_type": "code",
      "execution_count": null,
      "metadata": {
        "id": "g5IDsyzAba1A"
      },
      "outputs": [],
      "source": [
        "X = X_total_.loc[train.index,:]\n",
        "y = train[\"hindex\"]\n",
        "X_test = X_total_.loc[test.index,:]"
      ]
    },
    {
      "cell_type": "markdown",
      "metadata": {
        "id": "ABZtoScsQjAH"
      },
      "source": [
        "## **Addition with graph features**"
      ]
    },
    {
      "cell_type": "code",
      "execution_count": null,
      "metadata": {
        "id": "562ikH5v-gq2"
      },
      "outputs": [],
      "source": [
        "whole.corr()[\"hindex\"].sort_values(ascending = False)"
      ]
    },
    {
      "cell_type": "code",
      "execution_count": null,
      "metadata": {
        "id": "eRzeVN4IQwQn"
      },
      "outputs": [],
      "source": [
        "colonnes = [e for e in whole.columns if e not in [\"index\", \"author\", \"hindex\", \"core_number\", \"triangles\"]]\n",
        "#colonnes = [\"average\", \"page_rank\", \"n_articles\"]\n",
        "X_ = whole.loc[:, colonnes].values\n",
        "A = X_[0:train.shape[0],:]\n",
        "X = np.concatenate([X, A], axis = 1)\n",
        "A_test = X_[train.shape[0]:,:]\n",
        "X_test = np.concatenate([X_test, A_test], axis = 1)"
      ]
    },
    {
      "cell_type": "code",
      "execution_count": null,
      "metadata": {
        "id": "FCXbxbmiVkph"
      },
      "outputs": [],
      "source": [
        "colonnes"
      ]
    },
    {
      "cell_type": "code",
      "execution_count": null,
      "metadata": {
        "id": "SStnXQI9Rdaz"
      },
      "outputs": [],
      "source": [
        "X = scaler.fit_transform(X)\n",
        "X_test = scaler.transform(X_test)"
      ]
    },
    {
      "cell_type": "code",
      "execution_count": null,
      "metadata": {
        "id": "z8CpJN4sdGpo"
      },
      "outputs": [],
      "source": [
        "X.shape"
      ]
    },
    {
      "cell_type": "code",
      "execution_count": null,
      "metadata": {
        "id": "d_OnRx4bdHV5"
      },
      "outputs": [],
      "source": [
        "X_train, X_val, y_train, y_val = train_test_split(X, y, test_size = X_test.shape[0]/X.shape[0])"
      ]
    },
    {
      "cell_type": "markdown",
      "metadata": {
        "id": "Gyeay8Bwbzex"
      },
      "source": [
        "## **Feature selection**"
      ]
    },
    {
      "cell_type": "code",
      "execution_count": null,
      "metadata": {
        "colab": {
          "base_uri": "https://localhost:8080/"
        },
        "id": "AXWgPiTab_wv",
        "outputId": "2012908a-ad16-4c7f-8694-763c9f309ad9"
      },
      "outputs": [
        {
          "name": "stdout",
          "output_type": "stream",
          "text": [
            "Best alpha using built-in LassoCV : 0.347322\n"
          ]
        }
      ],
      "source": [
        "reg = LassoCV()\n",
        "reg.fit(X_train, y_train)\n",
        "print(\"Best alpha using built-in LassoCV : %f\"%reg.alpha_)"
      ]
    },
    {
      "cell_type": "code",
      "execution_count": null,
      "metadata": {
        "id": "1oYrZJdoeEH4"
      },
      "outputs": [],
      "source": [
        "coef = pd.Series(reg.coef_, index = list(np.arange(DIMENSION))+[\"average\", \"degree\", \"core_number\"])"
      ]
    },
    {
      "cell_type": "code",
      "execution_count": null,
      "metadata": {
        "colab": {
          "base_uri": "https://localhost:8080/"
        },
        "id": "KZiinjCNcomm",
        "outputId": "3d4be71b-497e-4a14-e9e4-4a1400839494"
      },
      "outputs": [
        {
          "name": "stdout",
          "output_type": "stream",
          "text": [
            "Lasso picked 3 variables and eliminated the other 1000 variables\n"
          ]
        }
      ],
      "source": [
        "print(\"Lasso picked \"+str(sum(coef != 0))+\" variables and eliminated the other \"+str(sum(coef == 0))+\" variables\")"
      ]
    },
    {
      "cell_type": "code",
      "execution_count": null,
      "metadata": {
        "colab": {
          "base_uri": "https://localhost:8080/",
          "height": 298
        },
        "id": "gN_dwGuueMuJ",
        "outputId": "0d75a6c8-e564-4a22-8d5e-2a533fab3454"
      },
      "outputs": [
        {
          "data": {
            "text/plain": [
              "Text(0.5, 1.0, 'Feature importance using Lasso Model')"
            ]
          },
          "execution_count": 59,
          "metadata": {},
          "output_type": "execute_result"
        },
        {
          "data": {
            "image/png": "[encoded data removed]",
            "text/plain": [
              "<Figure size 432x288 with 1 Axes>"
            ]
          },
          "metadata": {},
          "output_type": "display_data"
        }
      ],
      "source": [
        "imp_coef = coef.sort_values()\n",
        "imp_coef.plot(kind = \"barh\")\n",
        "plt.title(\"Feature importance using Lasso Model\")"
      ]
    },
    {
      "cell_type": "code",
      "execution_count": null,
      "metadata": {
        "id": "dE2jbHdWKU3f"
      },
      "outputs": [],
      "source": [
        "def select_features(X, y, X_test):\n",
        "  fs = SelectKBest(score_func = mutual_info_regression, k = 100)\n",
        "  fs.fit(X, y)\n",
        "  X_fs = fs.transform(X)\n",
        "  X_test_fs = fs.transform(X_test)\n",
        "  return X_fs, X_test_fs, fs"
      ]
    },
    {
      "cell_type": "code",
      "execution_count": null,
      "metadata": {
        "colab": {
          "background_save": true
        },
        "id": "oYtmeB2fPPZm"
      },
      "outputs": [],
      "source": [
        "X_fs, X_test_fs, _ = select_features(X, y, X_test)"
      ]
    },
    {
      "cell_type": "code",
      "execution_count": null,
      "metadata": {
        "id": "M2RGmap3PdNg"
      },
      "outputs": [],
      "source": [
        "X_train, X_val, y_train, y_val = train_test_split(X_fs, y, test_size = 0.2)\n",
        "X_test = X_test_fs"
      ]
    },
    {
      "cell_type": "markdown",
      "metadata": {
        "id": "y7ok19vE8ZE9"
      },
      "source": [
        "## **MODELS**"
      ]
    },
    {
      "cell_type": "markdown",
      "metadata": {
        "id": "65AeDlecAO10"
      },
      "source": [
        "### **DNN**"
      ]
    },
    {
      "cell_type": "code",
      "execution_count": null,
      "metadata": {
        "colab": {
          "base_uri": "https://localhost:8080/"
        },
        "id": "YM5fh4v1BG4Z",
        "outputId": "1a628a55-d96c-4e82-a427-4c05419fa176"
      },
      "outputs": [
        {
          "name": "stdout",
          "output_type": "stream",
          "text": [
            "Num GPUs Available:  1\n"
          ]
        }
      ],
      "source": [
        "import tensorflow as tf\n",
        "print(\"Num GPUs Available: \", len(tf.config.list_physical_devices('GPU')))\n",
        "tf.debugging.set_log_device_placement(True)"
      ]
    },
    {
      "cell_type": "code",
      "execution_count": null,
      "metadata": {
        "colab": {
          "base_uri": "https://localhost:8080/"
        },
        "id": "lh1EYOpwO7gG",
        "outputId": "cd11c1ce-9ba3-46a4-d384-7e02ede56caa"
      },
      "outputs": [
        {
          "name": "stdout",
          "output_type": "stream",
          "text": [
            "Model: \"sequential_2\"\n",
            "_________________________________________________________________\n",
            " Layer (type)                Output Shape              Param #   \n",
            "=================================================================\n",
            " dense_5 (Dense)             (None, 64)                64576     \n",
            "                                                                 \n",
            " dropout_2 (Dropout)         (None, 64)                0         \n",
            "                                                                 \n",
            " dense_6 (Dense)             (None, 1)                 65        \n",
            "                                                                 \n",
            "=================================================================\n",
            "Total params: 64,641\n",
            "Trainable params: 64,641\n",
            "Non-trainable params: 0\n",
            "_________________________________________________________________\n",
            "None\n"
          ]
        }
      ],
      "source": [
        "nnmodel = keras.Sequential()\n",
        "nnmodel.add(keras.layers.Input(X.shape[1]))\n",
        "nnmodel.add(keras.layers.Dense(64, activation='relu'))\n",
        "nnmodel.add(keras.layers.Dropout(0.1))\n",
        "nnmodel.add(keras.layers.Dense(1, activation='relu')) \n",
        "\n",
        "nnmodel.build((None, X.shape[1]))\n",
        "print(nnmodel.summary())"
      ]
    },
    {
      "cell_type": "code",
      "execution_count": null,
      "metadata": {
        "id": "p6H0tp4BO7gH"
      },
      "outputs": [],
      "source": [
        "nnmodel.compile(\n",
        "    loss = 'mean_squared_error', \n",
        "    optimizer = keras.optimizers.Adam(0.01),\n",
        "    metrics = ['mse']\n",
        ")"
      ]
    },
    {
      "cell_type": "code",
      "execution_count": null,
      "metadata": {
        "colab": {
          "base_uri": "https://localhost:8080/"
        },
        "id": "0GGQ4Z0eO7gH",
        "outputId": "8839dda6-9afb-45a9-a52a-5e16ae4cf527"
      },
      "outputs": [],
      "source": [
        "history = nnmodel.fit(\n",
        "    X_train, y_train, \n",
        "    batch_size = 32, \n",
        "    epochs = 1000, \n",
        "    validation_data = (X_val, y_val),\n",
        "    callbacks = keras.callbacks.EarlyStopping(patience = 10),\n",
        ") "
      ]
    },
    {
      "cell_type": "code",
      "execution_count": null,
      "metadata": {
        "colab": {
          "base_uri": "https://localhost:8080/",
          "height": 320
        },
        "id": "4aeu90_kO7gH",
        "outputId": "d502314b-97cb-45ed-ab09-3fa2c47c7a34"
      },
      "outputs": [
        {
          "data": {
            "image/png": "[encoded data removed]",
            "text/plain": [
              "<Figure size 576x360 with 1 Axes>"
            ]
          },
          "metadata": {},
          "output_type": "display_data"
        }
      ],
      "source": [
        "pd.DataFrame(history.history).plot(figsize = (8, 5))\n",
        "plt.grid(True)\n",
        "plt.show()"
      ]
    },
    {
      "cell_type": "code",
      "execution_count": null,
      "metadata": {},
      "outputs": [],
      "source": [
        "err = mean_squared_error(y_val, nnmodel.predict(X_val))\n",
        "print('validation MSE with RNN:', err)"
      ]
    },
    {
      "cell_type": "markdown",
      "metadata": {
        "id": "L6CkbWW0Cc1T"
      },
      "source": [
        "### **CATBOOST**"
      ]
    },
    {
      "cell_type": "code",
      "execution_count": null,
      "metadata": {
        "id": "YneZ5Di2O7gI"
      },
      "outputs": [],
      "source": [
        "model_cat = CatBoostRegressor(\n",
        "    iterations = 500000,\n",
        "    learning_rate = 0.05, \n",
        "    depth = 8,\n",
        "    loss_function='RMSE', \n",
        "    verbose = 2,\n",
        "    task_type = 'GPU',\n",
        ")"
      ]
    },
    {
      "cell_type": "code",
      "execution_count": null,
      "metadata": {
        "id": "llS8LvE0O7gI"
      },
      "outputs": [],
      "source": [
        "model_cat.fit(X_train, y_train,  eval_set = (X_val, y_val), early_stopping_rounds = 300)"
      ]
    },
    {
      "cell_type": "code",
      "execution_count": null,
      "metadata": {
        "id": "Bb_8ylsSc7zf"
      },
      "outputs": [],
      "source": [
        "print(mean_squared_error(y_val, model_cat.predict(X_val)))"
      ]
    },
    {
      "cell_type": "code",
      "execution_count": null,
      "metadata": {
        "id": "LCeeboGOUL0s"
      },
      "outputs": [],
      "source": [
        "feature_dict = {'Features': list(np.arange(DIMENSION)) + colonnes, 'Importance': model_cat.feature_importances_}\n",
        "feature_imp = pd.DataFrame(feature_dict).sort_values(by = ['Importance'], ascending = False)\n",
        "plt.figure(figsize=(10, 7))\n",
        "df_imp = feature_imp.head(20)\n",
        "sns.barplot(y = df_imp[\"Features\"], x = df_imp[\"Importance\"], palette = 'coolwarm_r')"
      ]
    },
    {
      "cell_type": "markdown",
      "metadata": {
        "id": "7Jm7w4SpCrnW"
      },
      "source": [
        "### **XGBOOST**"
      ]
    },
    {
      "cell_type": "code",
      "execution_count": null,
      "metadata": {
        "id": "ynNTCSrLO7gJ"
      },
      "outputs": [],
      "source": [
        "model_xg = XGBRegressor(**{\n",
        "    'learning_rate': 0.05,\n",
        "    'max_depth': 8,\n",
        "    'subsample': 0.8,\n",
        "    'n_estimators' : 70000,\n",
        "    'objective': 'reg:squarederror',\n",
        "    'tree_method':'gpu_hist',\n",
        "    'n_jobs':-1\n",
        "})"
      ]
    },
    {
      "cell_type": "code",
      "execution_count": null,
      "metadata": {
        "colab": {
          "base_uri": "https://localhost:8080/"
        },
        "id": "WmD06vIRO7gJ",
        "outputId": "325f7ab6-e018-4c4b-cc5f-a7024576ed89"
      },
      "outputs": [],
      "source": [
        "eval_set = [(X_train, y_train), (X_val, y_val)]\n",
        "eval_metric = [\"rmse\"]\n",
        "%time model_xg.fit(X_train, y_train, eval_metric=eval_metric, eval_set=eval_set, verbose = True, early_stopping_rounds = 200)"
      ]
    },
    {
      "cell_type": "code",
      "execution_count": null,
      "metadata": {
        "colab": {
          "base_uri": "https://localhost:8080/",
          "height": 54
        },
        "id": "Qli8rleyO7gJ",
        "outputId": "e5db75d7-dd0a-44f0-9ef3-6aea3a29a91a"
      },
      "outputs": [
        {
          "data": {
            "image/png": "[encoded data removed]",
            "text/plain": [
              "<Figure size 432x288 with 1 Axes>"
            ]
          },
          "metadata": {},
          "output_type": "display_data"
        }
      ],
      "source": [
        "results = model_xg.evals_result()\n",
        "epochs = len(results['validation_0']['rmse'])\n",
        "x_axis = range(0, epochs)\n",
        "fig, ax = plt.subplots()\n",
        "ax.plot(x_axis, results['validation_0']['rmse'], label='Train')\n",
        "ax.plot(x_axis, results['validation_1']['rmse'], label='Validation')\n",
        "ax.legend()\n",
        "plt.ylabel('Root mean squared error')\n",
        "plt.title('XGBoost Root Mean Squared Error')\n",
        "plt.show()"
      ]
    },
    {
      "cell_type": "code",
      "execution_count": null,
      "metadata": {
        "colab": {
          "base_uri": "https://localhost:8080/"
        },
        "id": "_HIospTWO7gJ",
        "outputId": "fa801e28-39d0-4a02-a930-db55795598aa"
      },
      "outputs": [
        {
          "name": "stdout",
          "output_type": "stream",
          "text": [
            "47.167254217926235\n"
          ]
        }
      ],
      "source": [
        "print(mean_squared_error(y_val, model_xg.predict(X_val)))"
      ]
    },
    {
      "cell_type": "markdown",
      "metadata": {
        "id": "ucPI9dzhUCfX"
      },
      "source": [
        "### **LIGHTGBM**"
      ]
    },
    {
      "cell_type": "code",
      "execution_count": null,
      "metadata": {
        "id": "trhK9tuUAprx"
      },
      "outputs": [],
      "source": [
        "model_lgbm = LGMRegressor(\n",
        "    'learning_rate':0.05,\n",
        "    'max_depth':8,\n",
        "    'boosting_type':'gbdt',\n",
        "    'n_estimators': 50000,\n",
        "    'objective':'regression'\n",
        ")"
      ]
    },
    {
      "cell_type": "code",
      "execution_count": null,
      "metadata": {},
      "outputs": [],
      "source": [
        "model_lgbm.fit(X_train, y_train)"
      ]
    },
    {
      "cell_type": "code",
      "execution_count": null,
      "metadata": {},
      "outputs": [],
      "source": [
        "print(mean_squared_error(y_val, model_lgbm.predict(X_val)))"
      ]
    },
    {
      "cell_type": "markdown",
      "metadata": {
        "id": "Ydpv6luK-nsJ"
      },
      "source": [
        "### **VOTINGREGRESSOR**"
      ]
    },
    {
      "cell_type": "code",
      "execution_count": null,
      "metadata": {
        "id": "xKUVgs40-mud"
      },
      "outputs": [],
      "source": [
        "from sklearn.ensemble import VotingRegressor, GradientBoostingRegressor"
      ]
    },
    {
      "cell_type": "code",
      "execution_count": null,
      "metadata": {
        "id": "7873-TyV_BeF"
      },
      "outputs": [],
      "source": [
        "model_v = VotingRegressor([('cat', model_cat), ('xg', model_xg)], verbose = 2)"
      ]
    },
    {
      "cell_type": "code",
      "execution_count": null,
      "metadata": {
        "colab": {
          "base_uri": "https://localhost:8080/"
        },
        "id": "46FmrrPo_NGu",
        "outputId": "a908e05a-ca8a-4b36-c792-e9d25cce3372"
      },
      "outputs": [],
      "source": [
        "model_v.fit(X_train, y_train)"
      ]
    },
    {
      "cell_type": "code",
      "execution_count": null,
      "metadata": {
        "colab": {
          "base_uri": "https://localhost:8080/"
        },
        "id": "-mncb3Ed_tW4",
        "outputId": "928e5534-af2e-4a3c-ca6f-27ac7070b911"
      },
      "outputs": [
        {
          "name": "stdout",
          "output_type": "stream",
          "text": [
            "46.31210108647375\n"
          ]
        }
      ],
      "source": [
        "print(mean_squared_error(y_val, model_v.predict(X_val)))"
      ]
    },
    {
      "cell_type": "markdown",
      "metadata": {
        "id": "aiu_FIdJDcRh"
      },
      "source": [
        "## **SUBMIT**"
      ]
    },
    {
      "cell_type": "code",
      "execution_count": null,
      "metadata": {
        "id": "MaJ_xX2sCuOs"
      },
      "outputs": [],
      "source": [
        "final_model = model_cat"
      ]
    },
    {
      "cell_type": "code",
      "execution_count": null,
      "metadata": {
        "id": "xkZ4_TtVO7gL"
      },
      "outputs": [],
      "source": [
        "final_model.fit(np.concatenate([X_train, X_val], axis = 0), np.concatenate([y_train, y_val], axis = 0), verbose = 2)"
      ]
    },
    {
      "cell_type": "code",
      "execution_count": 88,
      "metadata": {
        "colab": {
          "base_uri": "https://localhost:8080/"
        },
        "id": "bOkQKDOkO7gN",
        "outputId": "cc022fa4-789e-487c-dfcb-1cec9219059f"
      },
      "outputs": [
        {
          "name": "stdout",
          "output_type": "stream",
          "text": [
            "2423\n"
          ]
        }
      ],
      "source": [
        "prediction = final_model.predict(X_test)\n",
        "print((prediction < 1).sum())\n",
        "prediction[prediction <= 1] = 1"
      ]
    },
    {
      "cell_type": "code",
      "execution_count": 89,
      "metadata": {
        "colab": {
          "base_uri": "https://localhost:8080/",
          "height": 386
        },
        "id": "kOzW79XnD-KP",
        "outputId": "a45e56cc-d2b0-416e-d7d7-e3b5d8ab2e40"
      },
      "outputs": [
        {
          "data": {
            "text/plain": [
              "<seaborn.axisgrid.FacetGrid at 0x7ff1e1349e10>"
            ]
          },
          "execution_count": 89,
          "metadata": {},
          "output_type": "execute_result"
        },
        {
          "data": {
            "image/png": "[encoded data removed]",
            "text/plain": [
              "<Figure size 360x360 with 1 Axes>"
            ]
          },
          "metadata": {
            "needs_background": "light"
          },
          "output_type": "display_data"
        }
      ],
      "source": [
        "sns.displot(prediction)"
      ]
    },
    {
      "cell_type": "code",
      "execution_count": 90,
      "metadata": {
        "id": "bImlmRdWO7gN"
      },
      "outputs": [],
      "source": [
        "#/content/drive/MyDrive/Data_Challenge/\n",
        "submission = pd.read_csv(\"submission.csv\")\n",
        "submission[\"hindex\"] = prediction"
      ]
    },
    {
      "cell_type": "code",
      "execution_count": 91,
      "metadata": {
        "id": "fyzJnEPBT23N"
      },
      "outputs": [],
      "source": [
        "submission.to_csv(\"submit.csv\", index = False)"
      ]
    }
  ],
  "metadata": {
    "accelerator": "GPU",
    "colab": {
      "collapsed_sections": [
        "HEeXbBJpGm3M",
        "xjIHmaByUJNX",
        "rLu-Vzz4HAdN",
        "6OF5k3s5WPpR",
        "OQpfXm1oM5wz",
        "A1NuGvYK_PeB",
        "ABZtoScsQjAH",
        "zZpf4gL0yz1k",
        "5OzqW4Jso5I4",
        "H1o81S1IIQFa",
        "Gyeay8Bwbzex",
        "GniTBLHwAGo6",
        "65AeDlecAO10",
        "QT3Zfkt4B3LB",
        "oodHndRIaYic",
        "7Jm7w4SpCrnW",
        "ucPI9dzhUCfX",
        "Ydpv6luK-nsJ",
        "ZoXHDVVYD3CY",
        "aiu_FIdJDcRh"
      ],
      "machine_shape": "hm",
      "name": "notebook-inf554.ipynb",
      "provenance": []
    },
    "kernelspec": {
      "display_name": "Python 3",
      "language": "python",
      "name": "python3"
    },
    "language_info": {
      "codemirror_mode": {
        "name": "ipython",
        "version": 3
      },
      "file_extension": ".py",
      "mimetype": "text/x-python",
      "name": "python",
      "nbconvert_exporter": "python",
      "pygments_lexer": "ipython3",
      "version": "3.7.10"
    }
  },
  "nbformat": 4,
  "nbformat_minor": 0
}
